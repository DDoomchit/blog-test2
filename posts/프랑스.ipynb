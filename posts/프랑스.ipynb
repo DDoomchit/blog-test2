{
 "cells": [
  {
   "cell_type": "raw",
   "metadata": {
    "vscode": {
     "languageId": "raw"
    }
   },
   "source": [
    "---\n",
    "title: \"프랑스혁명\"\n",
    "author: \"이상민\"\n",
    "date: \"01/02/2025\"\n",
    "---"
   ]
  },
  {
   "cell_type": "markdown",
   "metadata": {},
   "source": [
    "![](https://upload.wikimedia.org/wikipedia/commons/thumb/a/af/Mus%C3%A9e_Ingres-Bourdelle_-_Portrait_de_Louis_XVI_-_Joseph-Siffred_Duplessis_-_Joconde06070000102.jpg/300px-Mus%C3%A9e_Ingres-Bourdelle_-_Portrait_de_Louis_XVI_-_Joseph-Siffred_Duplessis_-_Joconde06070000102.jpg)"
   ]
  },
  {
   "cell_type": "markdown",
   "metadata": {},
   "source": [
    "### 배경\n",
    "프랑스는 18세기에 들어와서 혁명 전야까지 스페인 왕위 계승 전쟁 (1701 ~ 1714년), 미국 독립 전쟁 (1775 ~ 1783년)을 비롯한 여섯 차례의 큰 전쟁에 참여했다. 참전의 결과는 프랑스의 국익에 도움이 되지 못하고 재정만 낭비하는 결과를 초래했다."
   ]
  },
  {
   "cell_type": "raw",
   "metadata": {
    "vscode": {
     "languageId": "raw"
    }
   },
   "source": [
    "안녕하세요"
   ]
  },
  {
   "cell_type": "raw",
   "metadata": {},
   "source": []
  }
 ],
 "metadata": {
  "language_info": {
   "name": "python"
  }
 },
 "nbformat": 4,
 "nbformat_minor": 2
}
